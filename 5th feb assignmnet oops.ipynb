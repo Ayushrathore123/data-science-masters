{
 "cells": [
  {
   "cell_type": "markdown",
   "id": "f33b5424",
   "metadata": {},
   "source": [
    "Q1. Explain Class and Object with respect to Object-Oriented Programming. Give a suitable example."
   ]
  },
  {
   "cell_type": "markdown",
   "id": "64a92594",
   "metadata": {},
   "source": [
    "Python Classes-\n",
    "A class is considered as a blueprint of objects. We can think of the class as a sketch (prototype) of a house. It contains all the details about the floors, doors, windows, etc. Based on these descriptions we build the house. House is the object."
   ]
  },
  {
   "cell_type": "code",
   "execution_count": 2,
   "id": "fddbccf8",
   "metadata": {},
   "outputs": [],
   "source": [
    "class Bike:\n",
    "    name = \"\"\n",
    "    gear = 0"
   ]
  },
  {
   "cell_type": "markdown",
   "id": "dee7c40d",
   "metadata": {},
   "source": [
    "Python Objects--\n",
    "An object is called an instance of a class. For example, suppose Bike is a class then we can create objects like bike1, bike2, etc from the class."
   ]
  },
  {
   "cell_type": "code",
   "execution_count": 4,
   "id": "e6419ddf",
   "metadata": {},
   "outputs": [],
   "source": [
    "\n",
    "class Bike:\n",
    "    name = \"\"\n",
    "    gear = 0\n",
    "bike1 = Bike()"
   ]
  },
  {
   "cell_type": "markdown",
   "id": "a9c8ee30",
   "metadata": {},
   "source": [
    "Q2. Name the four pillars of OOPs."
   ]
  },
  {
   "cell_type": "markdown",
   "id": "00b34001",
   "metadata": {},
   "source": [
    "1. Abstraction\n",
    "\n",
    "2. Encapsulation\n",
    "\n",
    "3. Inheritance\n",
    "\n",
    "4. Polymorphism"
   ]
  },
  {
   "cell_type": "markdown",
   "id": "8625aa58",
   "metadata": {},
   "source": [
    "Q3. Explain why the __init__() function is used. Give a suitable example."
   ]
  },
  {
   "cell_type": "markdown",
   "id": "6be1769f",
   "metadata": {},
   "source": [
    "A constructor of a class in Python is defined using the __init__ method. The python __init__ is a reserved method in Python that behaves like any other member function of the class, except the statements written under its definition are used to initialize the data members of a class in Python, i.e. it basically contains assignment statements. This method is automatically called at the time of class instantiation or object creation. "
   ]
  },
  {
   "cell_type": "code",
   "execution_count": 6,
   "id": "7f735014",
   "metadata": {},
   "outputs": [],
   "source": [
    "class Person:\n",
    " \n",
    "    # init method or constructor\n",
    "    def __init__(self, name):\n",
    "        self.name = name\n",
    " "
   ]
  },
  {
   "cell_type": "markdown",
   "id": "43797229",
   "metadata": {},
   "source": [
    "Q4. Why self is used in OOPs?"
   ]
  },
  {
   "cell_type": "markdown",
   "id": "388ee896",
   "metadata": {},
   "source": [
    "In object-oriented programming, whenever we define methods for a class, we use self as the first parameter in each case."
   ]
  },
  {
   "cell_type": "markdown",
   "id": "121e01e1",
   "metadata": {},
   "source": [
    "Q5. What is inheritance? Give an example for each type of inheritance"
   ]
  },
  {
   "cell_type": "markdown",
   "id": "9a408969",
   "metadata": {},
   "source": [
    "The class whose members are inherited is called the base class, and the class that inherits those members is called the derived class."
   ]
  },
  {
   "cell_type": "markdown",
   "id": "8f3e0d33",
   "metadata": {},
   "source": [
    "Single Inheritance\n",
    "\n",
    "Multiple Inheritance\n",
    "\n",
    "Multilevel Inheritance\n",
    "\n",
    "Hierarchical Inheritance\n",
    "\n",
    "Hybrid Inheritance"
   ]
  },
  {
   "cell_type": "code",
   "execution_count": null,
   "id": "27c75fa7",
   "metadata": {},
   "outputs": [],
   "source": []
  }
 ],
 "metadata": {
  "kernelspec": {
   "display_name": "Python 3 (ipykernel)",
   "language": "python",
   "name": "python3"
  },
  "language_info": {
   "codemirror_mode": {
    "name": "ipython",
    "version": 3
   },
   "file_extension": ".py",
   "mimetype": "text/x-python",
   "name": "python",
   "nbconvert_exporter": "python",
   "pygments_lexer": "ipython3",
   "version": "3.9.12"
  }
 },
 "nbformat": 4,
 "nbformat_minor": 5
}
