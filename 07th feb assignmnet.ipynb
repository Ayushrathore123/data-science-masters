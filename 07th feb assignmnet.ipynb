{
 "cells": [
  {
   "cell_type": "markdown",
   "id": "5feec65f",
   "metadata": {},
   "source": [
    "Q1. You are writing code for a company. The requirement of the company is that you create a python\n",
    "function The requirement of the company is that you create a python\n",
    "function that will check whether the password entered by the user is correct or not. The function should\n",
    "take the password as input and return the string “Valid Password” will check whether the password entered by the user is correct or not. The function should\n",
    "take the password as input and return the string “Valid Password” if the entered password follows the\n",
    "below-given password guidelines else it should return “Invalid Password”.\n",
    "Note: 1. The Password should contain at least two uppercase letters and at least two lowercase letters.\n",
    "2. The Password should contain at least a number and three special characters.\n",
    "3. The length of the password should be 10 characters long.\n",
    "\n",
    "\n"
   ]
  },
  {
   "cell_type": "code",
   "execution_count": 23,
   "id": "328469f7",
   "metadata": {
    "scrolled": true
   },
   "outputs": [
    {
     "name": "stdout",
     "output_type": "stream",
     "text": [
      "Enter The PasswordAyush#123!!#\n",
      "Invaid Password\n"
     ]
    }
   ],
   "source": [
    "def isValidPassword(password):\n",
    "    isupper=0\n",
    "    islower=0\n",
    "    num=0\n",
    "    special=0\n",
    "    specialstring=\"[!@#$%^&*()_+<>?|}{}]\" \n",
    "    for i in password:\n",
    "        if i.isnumeric():\n",
    "            num+=1\n",
    "           \n",
    "        if i.isupper():\n",
    "            isupper+=1\n",
    "           \n",
    "        if i.islower():\n",
    "            islower+=1\n",
    "            \n",
    "    for i in specialstring:\n",
    "        for j in password:\n",
    "            if j==i:\n",
    "                special+=1\n",
    "               \n",
    "                \n",
    "        if special>=3 and num>=1 and len(password)>=10 and isupper>=2 and islower>=2:\n",
    "              return \"Valid Password\"\n",
    "        else:\n",
    "    \n",
    "             return \"Invaid Password\"\n",
    "password=input(\"Enter The Password\")\n",
    "print(isValidPassword(password))\n"
   ]
  },
  {
   "cell_type": "markdown",
   "id": "6f71c515",
   "metadata": {},
   "source": [
    "Q2. Solve the below-given questions using at least one of the following:\n",
    "1. Lambda function\n",
    "2. Filter function\n",
    "3. Zap function\n",
    "4. List Comprehension\n",
    "B Check if the string starts with a particular letterY\n",
    "B Check if the string is numericY\n",
    "B Sort a list of tuples having fruit names and their quantity.\n",
    "[(\"mango\",99),(\"orange\",80), (\"grapes\", 1000)]\n",
    "B Find the squares of numbers from 1 to 10Y\n",
    "B Find the cube root of numbers from 1 to 10Y\n",
    "B Check if a given number is evenY\n",
    "B Filter odd numbers from the given list.\n",
    "[1,2,3,4,5,6,7,8,9,10-\n",
    "B Sort a list of integers into positive and negative integers lists.\n",
    "[1,2,3,4,5,6,-1,-2,-3,-4,-5,0]"
   ]
  },
  {
   "cell_type": "markdown",
   "id": "0a6db655",
   "metadata": {},
   "source": [
    " 1. Check if the string starts with a particular letter."
   ]
  },
  {
   "cell_type": "code",
   "execution_count": 7,
   "id": "b329e708",
   "metadata": {
    "scrolled": true
   },
   "outputs": [
    {
     "ename": "SyntaxError",
     "evalue": "invalid syntax (3280246297.py, line 1)",
     "output_type": "error",
     "traceback": [
      "\u001b[1;36m  Input \u001b[1;32mIn [7]\u001b[1;36m\u001b[0m\n\u001b[1;33m    (a)  lambda function\u001b[0m\n\u001b[1;37m         ^\u001b[0m\n\u001b[1;31mSyntaxError\u001b[0m\u001b[1;31m:\u001b[0m invalid syntax\n"
     ]
    }
   ],
   "source": [
    "#  (a) lambda function\n",
    "\n",
    "starts_with = lambda x: True if x.startswith('E') else False\n",
    "print(starts_with(\"England\"))"
   ]
  },
  {
   "cell_type": "code",
   "execution_count": 8,
   "id": "d1f2c854",
   "metadata": {},
   "outputs": [
    {
     "name": "stdout",
     "output_type": "stream",
     "text": [
      "the list with prefix a: ['ayush', 'adarsh', 'anuj', 'avinash', 'aman', 'aditya']\n"
     ]
    }
   ],
   "source": [
    "# (b)  filter function\n",
    "\n",
    "name_list=['ayush','adarsh','anuj','avinash','aman','aditya','mayank','vishnu']\n",
    "start_letter='a'\n",
    "with_a=list(filter(lambda x: x.startswith(start_letter),name_list))\n",
    "print(\"the list with prefix a: \"+ str(with_a))"
   ]
  },
  {
   "cell_type": "code",
   "execution_count": 10,
   "id": "90b68553",
   "metadata": {},
   "outputs": [
    {
     "ename": "AttributeError",
     "evalue": "type object 'str' has no attribute 'startwith'",
     "output_type": "error",
     "traceback": [
      "\u001b[1;31m---------------------------------------------------------------------------\u001b[0m",
      "\u001b[1;31mAttributeError\u001b[0m                            Traceback (most recent call last)",
      "Input \u001b[1;32mIn [10]\u001b[0m, in \u001b[0;36m<cell line: 3>\u001b[1;34m()\u001b[0m\n\u001b[0;32m      1\u001b[0m \u001b[38;5;66;03m# (c) Map function\u001b[39;00m\n\u001b[0;32m      2\u001b[0m string_it \u001b[38;5;241m=\u001b[39m [\u001b[38;5;124m\"\u001b[39m\u001b[38;5;124mprocessing\u001b[39m\u001b[38;5;124m\"\u001b[39m, \u001b[38;5;124m\"\u001b[39m\u001b[38;5;124mstrings\u001b[39m\u001b[38;5;124m\"\u001b[39m, \u001b[38;5;124m\"\u001b[39m\u001b[38;5;124mwith\u001b[39m\u001b[38;5;124m\"\u001b[39m, \u001b[38;5;124m\"\u001b[39m\u001b[38;5;124mmap\u001b[39m\u001b[38;5;124m\"\u001b[39m]\n\u001b[1;32m----> 3\u001b[0m \u001b[38;5;28mlist\u001b[39m(\u001b[38;5;28mmap\u001b[39m(\u001b[38;5;28;43mstr\u001b[39;49m\u001b[38;5;241;43m.\u001b[39;49m\u001b[43mstartwith\u001b[49m(\u001b[38;5;124m'\u001b[39m\u001b[38;5;124ms\u001b[39m\u001b[38;5;124m'\u001b[39m), string_it))\n",
      "\u001b[1;31mAttributeError\u001b[0m: type object 'str' has no attribute 'startwith'"
     ]
    }
   ],
   "source": [
    "# (c) Map function\n",
    ">>> string_it = [\"processing\", \"strings\", \"with\", \"map\"]\n",
    ">>> list(map(str.startwith('s'), string_it))\n"
   ]
  },
  {
   "cell_type": "markdown",
   "id": "7ff15a37",
   "metadata": {},
   "source": [
    "  2.  Sort a list of tuples having fruit names and their quantity. "
   ]
  },
  {
   "cell_type": "code",
   "execution_count": 12,
   "id": "589adf89",
   "metadata": {},
   "outputs": [],
   "source": [
    "tup=[(\"mango\",99),(\"orange\",80), (\"grapes\", 1000)]"
   ]
  },
  {
   "cell_type": "code",
   "execution_count": 20,
   "id": "51cec4e7",
   "metadata": {},
   "outputs": [
    {
     "data": {
      "text/plain": [
       "[('orange', 80), ('mango', 99), ('grapes', 1000)]"
      ]
     },
     "execution_count": 20,
     "metadata": {},
     "output_type": "execute_result"
    }
   ],
   "source": [
    "def sort(tup):\n",
    "    return(sorted(tup, key = lambda x: x[1])) \n",
    "    \n",
    "sort(tup)"
   ]
  },
  {
   "cell_type": "markdown",
   "id": "4b2d3919",
   "metadata": {},
   "source": [
    "3.Find the squares of numbers from 1 to 10."
   ]
  },
  {
   "cell_type": "code",
   "execution_count": 23,
   "id": "c01d5d32",
   "metadata": {},
   "outputs": [
    {
     "data": {
      "text/plain": [
       "[1, 4, 9, 16, 25, 36, 49, 64, 81, 100]"
      ]
     },
     "execution_count": 23,
     "metadata": {},
     "output_type": "execute_result"
    }
   ],
   "source": [
    "def squares(start, end):\n",
    "    return [i**2 for i in range(start, end+1)]\n",
    "squares(1,10)"
   ]
  },
  {
   "cell_type": "markdown",
   "id": "6e13c341",
   "metadata": {},
   "source": [
    "4. Find the cube root of numbers from 1 to 10"
   ]
  },
  {
   "cell_type": "code",
   "execution_count": 24,
   "id": "b60ec092",
   "metadata": {},
   "outputs": [
    {
     "name": "stdout",
     "output_type": "stream",
     "text": [
      "[1, 8, 27, 64, 125, 216, 343, 512, 729, 1000]\n"
     ]
    }
   ],
   "source": [
    "cubes = []\n",
    "\n",
    "for i in range(1, 11):\n",
    "    cubes.append(i**3)\n",
    "\n",
    "print(cubes)"
   ]
  },
  {
   "cell_type": "markdown",
   "id": "7cf38d1f",
   "metadata": {},
   "source": [
    "5..Check if a given number is even.."
   ]
  },
  {
   "cell_type": "code",
   "execution_count": 33,
   "id": "506aafe4",
   "metadata": {},
   "outputs": [
    {
     "name": "stdout",
     "output_type": "stream",
     "text": [
      "True\n"
     ]
    }
   ],
   "source": [
    "\n",
    "number = lambda x: True if x%2==0 else False\n",
    "print(number(10000))"
   ]
  },
  {
   "cell_type": "markdown",
   "id": "3752b992",
   "metadata": {},
   "source": [
    "6. Filter odd numbers from the given list.\n"
   ]
  },
  {
   "cell_type": "code",
   "execution_count": 34,
   "id": "ff93ec15",
   "metadata": {},
   "outputs": [
    {
     "name": "stdout",
     "output_type": "stream",
     "text": [
      "Odd numbers in the list: [1, 3, 5, 7, 9]\n"
     ]
    }
   ],
   "source": [
    "list1 = [1,2,3,4,5,6,7,8,9,10]\n",
    " \n",
    "# we can also print odd no's using lambda exp.\n",
    "odd_nos = list(filter(lambda x: (x % 2 != 0), list1))\n",
    " \n",
    "print(\"Odd numbers in the list:\", odd_nos)"
   ]
  },
  {
   "cell_type": "markdown",
   "id": "daf2d7d0",
   "metadata": {},
   "source": [
    "7..Sort a list of integers into positive and negative integers lists.\n",
    "[1,2,3,4,5,6,-1,-2,-3,-4,-5,0]"
   ]
  },
  {
   "cell_type": "code",
   "execution_count": 36,
   "id": "0158defc",
   "metadata": {},
   "outputs": [],
   "source": [
    "A=[1,2,3,4,5,6,-1,-2,-3,-4,-5,0]"
   ]
  },
  {
   "cell_type": "code",
   "execution_count": 39,
   "id": "1b93fe5f",
   "metadata": {},
   "outputs": [],
   "source": [
    "B=list(filter(lambda x: 0 > x, A))\n",
    "C=list(filter(lambda x: 0 <= x, A))\n"
   ]
  },
  {
   "cell_type": "code",
   "execution_count": 45,
   "id": "55e86ac5",
   "metadata": {},
   "outputs": [
    {
     "data": {
      "text/plain": [
       "[-1, -2, -3, -4, -5]"
      ]
     },
     "execution_count": 45,
     "metadata": {},
     "output_type": "execute_result"
    }
   ],
   "source": [
    "B "
   ]
  },
  {
   "cell_type": "code",
   "execution_count": 46,
   "id": "aff660a2",
   "metadata": {},
   "outputs": [
    {
     "data": {
      "text/plain": [
       "[1, 2, 3, 4, 5, 6, 0]"
      ]
     },
     "execution_count": 46,
     "metadata": {},
     "output_type": "execute_result"
    }
   ],
   "source": [
    "C"
   ]
  },
  {
   "cell_type": "code",
   "execution_count": null,
   "id": "4036d1ca",
   "metadata": {},
   "outputs": [],
   "source": []
  }
 ],
 "metadata": {
  "kernelspec": {
   "display_name": "Python 3 (ipykernel)",
   "language": "python",
   "name": "python3"
  },
  "language_info": {
   "codemirror_mode": {
    "name": "ipython",
    "version": 3
   },
   "file_extension": ".py",
   "mimetype": "text/x-python",
   "name": "python",
   "nbconvert_exporter": "python",
   "pygments_lexer": "ipython3",
   "version": "3.9.12"
  }
 },
 "nbformat": 4,
 "nbformat_minor": 5
}
