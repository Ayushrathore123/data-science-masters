{
 "cells": [
  {
   "cell_type": "markdown",
   "id": "506e6feb",
   "metadata": {},
   "source": [
    "Q1. Create a function which will take a list as an argument and return the product of all the numbers \n",
    "after creating a flat list.\n",
    "\n",
    "Use the below-given list as an argument for your function.\n",
    "\n",
    "\n",
    "list1 = [1,2,3,4, [44,55,66, True], False, (34,56,78,89,34), {1,2,3,3,2,1}, {1:34, \"key2\": [55, 67, 78, 89], 4: (45, \n",
    "22, 61, 34)}, [56, 'data science'], 'Machine Learning']\n",
    "\n",
    "\n",
    "Note: you must extract numeric keys and values of the dictionary also."
   ]
  },
  {
   "cell_type": "code",
   "execution_count": 5,
   "id": "d23668d7",
   "metadata": {},
   "outputs": [],
   "source": [
    "list1 = [1,2,3,4, [44,55,66, True], False, (34,56,78,89,34), {1,2,3,3,2,1}, {1:34, \"key2\": [55, 67, 78, 89], 4: (45, \n",
    "22, 61, 34)}, [56, 'data science'], 'Machine Learning']\n"
   ]
  },
  {
   "cell_type": "code",
   "execution_count": 6,
   "id": "9f5f50b0",
   "metadata": {},
   "outputs": [
    {
     "name": "stdout",
     "output_type": "stream",
     "text": [
      "[1, 2, 3, 4, 44, 55, 66, 34, 56, 78, 89, 34, 1, 2, 3, 1, 4, 34, 55, 67, 78, 89, 45, 22, 61, 34, 56]\n"
     ]
    }
   ],
   "source": [
    "from functools import reduce\n",
    "def product(lst):\n",
    "    flatList=[]\n",
    "    for i in lst:\n",
    "        if type(i)==list or type(i)==tuple or type(i)==set:\n",
    "            for j in i:\n",
    "                if type(j)==int:\n",
    "                    flatList.append(j)\n",
    "        elif type(i)==dict:\n",
    "            for a in i.keys():\n",
    "                if type(a)==int:\n",
    "                    flatList.append(a)\n",
    "            for b in i.values():\n",
    "                if type(b)==int:\n",
    "                    flatList.append(b)\n",
    "                if type(b)==list or type(b)==tuple:\n",
    "                    for c in b:\n",
    "                        if type(c)==int:\n",
    "                            flatList.append(c)\n",
    "        else:\n",
    "            if type(i)==int:\n",
    "                flatList.append(i)\n",
    "    return flatList\n",
    "list1 = [1,2,3,4, [44,55,66, True], False, (34,56,78,89,34), {1,2,3,3,2,1}, {1:34, \"key2\": [55, 67, 78, 89], 4: (45, 22, 61, 34)}, [56, 'data science'], 'Machine Learning']\n",
    "print(product(list1))          "
   ]
  },
  {
   "cell_type": "code",
   "execution_count": 7,
   "id": "1f15ddf9",
   "metadata": {},
   "outputs": [
    {
     "data": {
      "text/plain": [
       "[1,\n",
       " 2,\n",
       " 3,\n",
       " 4,\n",
       " 44,\n",
       " 55,\n",
       " 66,\n",
       " 34,\n",
       " 56,\n",
       " 78,\n",
       " 89,\n",
       " 34,\n",
       " 1,\n",
       " 2,\n",
       " 3,\n",
       " 1,\n",
       " 4,\n",
       " 34,\n",
       " 55,\n",
       " 67,\n",
       " 78,\n",
       " 89,\n",
       " 45,\n",
       " 22,\n",
       " 61,\n",
       " 34,\n",
       " 56]"
      ]
     },
     "execution_count": 7,
     "metadata": {},
     "output_type": "execute_result"
    }
   ],
   "source": [
    "product(list1)"
   ]
  },
  {
   "cell_type": "code",
   "execution_count": 13,
   "id": "ebb6cf23",
   "metadata": {},
   "outputs": [
    {
     "name": "stdout",
     "output_type": "stream",
     "text": [
      "4134711838987085478833841242112000\n"
     ]
    }
   ],
   "source": [
    "def multiply(list1):\n",
    "    result=1\n",
    "    for x in product(list1):\n",
    "        result=result*x\n",
    "    return result\n",
    "\n",
    "print(multiply(product(list1)))"
   ]
  },
  {
   "cell_type": "code",
   "execution_count": 17,
   "id": "03240e44",
   "metadata": {},
   "outputs": [
    {
     "name": "stdout",
     "output_type": "stream",
     "text": [
      "4134711838987085478833841242112000\n"
     ]
    }
   ],
   "source": [
    "from functools import reduce\n",
    "product = reduce(lambda x, y: x * y,product(list1))\n",
    "print(product)"
   ]
  },
  {
   "cell_type": "markdown",
   "id": "d73f166b",
   "metadata": {},
   "source": [
    "Q2. Write a python program for encrypting a message sent to you by your friend. The logic of encryption \n",
    "should be such that, for a the output should be z. For b, the output should be y. For c, the output should \n",
    "be x respectively. Also, the whitespace should be replaced with a dollar sign. Keep the punctuation \n",
    "marks unchanged.\n",
    "\n",
    "\n",
    "Input Sentence: I want to become a Data Scientist.\n",
    "\n",
    "\n",
    "Encrypt the above input sentence using the program you just created.\n",
    "\n",
    "\n",
    "Note: Convert the given input sentence into lowercase before encrypting. The final output should be \n",
    "lowercase"
   ]
  },
  {
   "cell_type": "code",
   "execution_count": 21,
   "id": "56ce675a",
   "metadata": {},
   "outputs": [],
   "source": [
    "InputSentence= \"I want to become a Data Scientist.\"\n"
   ]
  },
  {
   "cell_type": "code",
   "execution_count": 24,
   "id": "4936eb86",
   "metadata": {},
   "outputs": [
    {
     "data": {
      "text/plain": [
       "'i want to become a data scientist.'"
      ]
     },
     "execution_count": 24,
     "metadata": {},
     "output_type": "execute_result"
    }
   ],
   "source": [
    "InputSentence=InputSentence.lower()\n",
    "InputSentence"
   ]
  },
  {
   "cell_type": "code",
   "execution_count": 28,
   "id": "f7313822",
   "metadata": {},
   "outputs": [
    {
     "name": "stdout",
     "output_type": "stream",
     "text": [
      "enter the string'i want to become a data scientist.'\n",
      "enter the key$$\n",
      "Encrypted String= '$$i$$ $$w$$a$$n$$t$$ $$t$$o$$ $$b$$e$$c$$o$$m$$e$$ $$a$$ $$d$$a$$t$$a$$ $$s$$c$$i$$e$$n$$t$$i$$s$$t$$.$$'\n",
      "decrypted string= 'i want to become a data scientist.'\n"
     ]
    }
   ],
   "source": [
    "def encrypt(str,key):\n",
    "    return key.join(str)\n",
    "def decrypt(str,key):\n",
    "    return str.split(key)\n",
    "enstr=input(\"enter the string\")\n",
    "enkey=input(\"enter the key\")\n",
    "enstring=encrypt(enstr,enkey)\n",
    "print(\"Encrypted String=\",enstring)\n",
    "delist=decrypt(enstr,enkey)\n",
    "destring=\"\".join(delist)\n",
    "print(\"decrypted string=\",destring)"
   ]
  },
  {
   "cell_type": "code",
   "execution_count": null,
   "id": "5c3be155",
   "metadata": {},
   "outputs": [],
   "source": []
  }
 ],
 "metadata": {
  "kernelspec": {
   "display_name": "Python 3 (ipykernel)",
   "language": "python",
   "name": "python3"
  },
  "language_info": {
   "codemirror_mode": {
    "name": "ipython",
    "version": 3
   },
   "file_extension": ".py",
   "mimetype": "text/x-python",
   "name": "python",
   "nbconvert_exporter": "python",
   "pygments_lexer": "ipython3",
   "version": "3.9.12"
  }
 },
 "nbformat": 4,
 "nbformat_minor": 5
}
