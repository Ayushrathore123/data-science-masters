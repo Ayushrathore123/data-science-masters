{
 "cells": [
  {
   "cell_type": "code",
   "execution_count": null,
   "id": "72e23c9c",
   "metadata": {},
   "outputs": [],
   "source": [
    "marks = int(input(\"enter the marks\"))\n",
    "if marks > 90:\n",
    "    print(\"Grade: A\")\n",
    "elif marks > 80 and marks <= 90:\n",
    "    print(\"Grade:B\")\n",
    "elif marks >=60 and marks <= 80:\n",
    "    print(\"Grade:C\")\n",
    "else:\n",
    "    print(\"Grade:D\")"
   ]
  },
  {
   "cell_type": "code",
   "execution_count": 1,
   "id": "0c78a24d",
   "metadata": {},
   "outputs": [
    {
     "name": "stdout",
     "output_type": "stream",
     "text": [
      "enter the bike price 60000\n",
      "The road tax will be 10%\n"
     ]
    }
   ],
   "source": [
    "bike_price = int(input(\"enter the bike price \"))\n",
    "if bike_price > 100000:\n",
    "    print(\"The road tax will be 15%\")\n",
    "elif bike_price > 50000 and bike_price <= 100000:\n",
    "    print(\"The road tax will be 10%\")\n",
    "else:\n",
    "    print(\"The road tax will be 5%\")\n",
    "    "
   ]
  },
  {
   "cell_type": "code",
   "execution_count": 4,
   "id": "7c134a0c",
   "metadata": {},
   "outputs": [
    {
     "name": "stdout",
     "output_type": "stream",
     "text": [
      "enter thye city name  jaipur\n",
      "The name of monumemt is Jal Mahal\n"
     ]
    }
   ],
   "source": [
    "city_name= input(\"enter thye city name  \")\n",
    "if city_name==\"delhi\":\n",
    "    print(\"The name of monumemt is Red Fort\")\n",
    "elif city_name==\"agra\":\n",
    "    print(\"The name of monumemt is Taj Mahal\")\n",
    "elif city_name==\"jaipur\":\n",
    "    print(\"The name of monumemt is Jal Mahal\")"
   ]
  },
  {
   "cell_type": "code",
   "execution_count": 1,
   "id": "4c78d955",
   "metadata": {},
   "outputs": [
    {
     "name": "stdout",
     "output_type": "stream",
     "text": [
      "0\n",
      "3\n",
      "6\n",
      "9\n"
     ]
    }
   ],
   "source": [
    "#start = int(input(\"Enter start number:\"))\n",
    " \n",
    "#end = int(input(\"Enter last number:\"))\n",
    " \n",
    "for i in range(0,11):\n",
    "    if(i%3==0):\n",
    "        print(i)"
   ]
  },
  {
   "cell_type": "code",
   "execution_count": 3,
   "id": "88ef512f",
   "metadata": {},
   "outputs": [
    {
     "name": "stdout",
     "output_type": "stream",
     "text": [
      "* \n",
      "* * \n",
      "* * * \n",
      "* * * * \n",
      "* * * * * \n"
     ]
    }
   ],
   "source": [
    "n = 5\n",
    "for i in range(1, n + 1):\n",
    "    for j in range(1, i + 1):\n",
    "        print(\"*\", end=\" \")\n",
    "    print('')"
   ]
  },
  {
   "cell_type": "code",
   "execution_count": 4,
   "id": "46be3468",
   "metadata": {},
   "outputs": [
    {
     "name": "stdout",
     "output_type": "stream",
     "text": [
      "10\n",
      "9\n",
      "8\n",
      "7\n",
      "6\n",
      "5\n",
      "4\n",
      "3\n",
      "2\n",
      "1\n"
     ]
    }
   ],
   "source": [
    "i = 10\n",
    "while i > 0:\n",
    "    print(i)\n",
    "    i = i - 1"
   ]
  }
 ],
 "metadata": {
  "kernelspec": {
   "display_name": "Python 3 (ipykernel)",
   "language": "python",
   "name": "python3"
  },
  "language_info": {
   "codemirror_mode": {
    "name": "ipython",
    "version": 3
   },
   "file_extension": ".py",
   "mimetype": "text/x-python",
   "name": "python",
   "nbconvert_exporter": "python",
   "pygments_lexer": "ipython3",
   "version": "3.9.12"
  }
 },
 "nbformat": 4,
 "nbformat_minor": 5
}
